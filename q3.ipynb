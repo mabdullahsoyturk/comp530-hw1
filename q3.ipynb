{
 "cells": [
  {
   "cell_type": "code",
   "execution_count": 5,
   "metadata": {},
   "outputs": [],
   "source": [
    "import pandas as pd\n",
    "from pandasql import sqldf\n",
    "import numpy as np\n",
    "import matplotlib.pyplot as plt\n",
    "%matplotlib inline"
   ]
  },
  {
   "cell_type": "code",
   "execution_count": 6,
   "metadata": {},
   "outputs": [
    {
     "name": "stdout",
     "output_type": "stream",
     "text": [
      "Number of rows in the original dataset: 48842\n",
      "Number of rows deleted: 3620\n",
      "Number of rows in the clean dataset: 45222\n"
     ]
    }
   ],
   "source": [
    "dataset = pd.read_csv(\"adult.csv\")\n",
    "initial_no_rows = dataset.shape[0]\n",
    "dataset = dataset.replace({'?':np.nan}).dropna()\n",
    "clean_no_rows = dataset.shape[0]\n",
    "print(\"Number of rows in the original dataset: {}\".format(initial_no_rows))\n",
    "print(\"Number of rows deleted: {}\".format(initial_no_rows - clean_no_rows))\n",
    "print(\"Number of rows in the clean dataset: {}\".format(clean_no_rows))"
   ]
  },
  {
   "cell_type": "code",
   "execution_count": 10,
   "metadata": {},
   "outputs": [
    {
     "data": {
      "image/png": "[encoded data removed]",
      "text/plain": [
       "<Figure size 1440x216 with 1 Axes>"
      ]
     },
     "metadata": {
      "needs_background": "light"
     },
     "output_type": "display_data"
    }
   ],
   "source": [
    "above_50k = dataset[dataset['income'].str.contains(\">50K\")]\n",
    "counts = above_50k['education'].value_counts()\n",
    "education_levels = counts.index\n",
    "\n",
    "plt.figure(figsize=(20, 3))\n",
    "plt.xlabel(\"Education Level\", labelpad=16, fontsize=16)\n",
    "plt.ylabel(\"Number of people\", labelpad=16, fontsize=16)\n",
    "plt.bar(education_levels, counts)\n",
    "plt.savefig(\"fig1.png\")\n",
    "plt.show()"
   ]
  },
  {
   "cell_type": "code",
   "execution_count": 36,
   "metadata": {},
   "outputs": [
    {
     "name": "stdout",
     "output_type": "stream",
     "text": [
      "Conditional probability 1 (>50K) for White race\n",
      "Nominator is: 10207\n",
      "Denominator is: 38903\n",
      "Probability is: 0.2623705112716243\n",
      "\n",
      "Conditional probability 1 (>50K) for Black race\n",
      "Nominator is: 534\n",
      "Denominator is: 4228\n",
      "Probability is: 0.12630085146641437\n",
      "\n",
      "Conditional probability 1 (>50K) for Asian-Pac-Islander race\n",
      "Nominator is: 369\n",
      "Denominator is: 1303\n",
      "Probability is: 0.2831926323867997\n",
      "\n"
     ]
    }
   ],
   "source": [
    "races = ['White', 'Black', 'Asian-Pac-Islander']\n",
    "\n",
    "for race in races:\n",
    "    print(\"Conditional probability 1 (>50K) for {} race\".format(race))\n",
    "    nominator_query = \"SELECT count(*) FROM dataset WHERE race='{}' and income='>50K';\".format(race)\n",
    "    nominator = sqldf(nominator_query).iloc[0].values[0]\n",
    "    print(\"Nominator is: {}\".format(nominator))\n",
    "    denominator_query = \"SELECT count(*) FROM dataset WHERE race='{}';\".format(race)\n",
    "    denominator = sqldf(denominator_query).iloc[0].values[0]\n",
    "    print(\"Denominator is: {}\".format(denominator))\n",
    "    print(\"Probability is: {}\\n\".format(nominator / denominator))"
   ]
  },
  {
   "cell_type": "code",
   "execution_count": 37,
   "metadata": {},
   "outputs": [
    {
     "name": "stdout",
     "output_type": "stream",
     "text": [
      "Conditional probability 2 (<=50K) for White race\n",
      "Nominator is: 28696\n",
      "Denominator is: 38903\n",
      "Probability is: 0.7376294887283757\n",
      "\n",
      "Conditional probability 2 (<=50K) for Black race\n",
      "Nominator is: 3694\n",
      "Denominator is: 4228\n",
      "Probability is: 0.8736991485335857\n",
      "\n",
      "Conditional probability 2 (<=50K) for Asian-Pac-Islander race\n",
      "Nominator is: 934\n",
      "Denominator is: 1303\n",
      "Probability is: 0.7168073676132003\n",
      "\n"
     ]
    }
   ],
   "source": [
    "races = ['White', 'Black', 'Asian-Pac-Islander']\n",
    "\n",
    "for race in races:\n",
    "    print(\"Conditional probability 2 (<=50K) for {} race\".format(race))\n",
    "    nominator_query = \"SELECT count(*) FROM dataset WHERE race='{}' and income='<=50K';\".format(race)\n",
    "    nominator = sqldf(nominator_query).iloc[0].values[0]\n",
    "    print(\"Nominator is: {}\".format(nominator))\n",
    "    denominator_query = \"SELECT count(*) FROM dataset WHERE race='{}';\".format(race)\n",
    "    denominator = sqldf(denominator_query).iloc[0].values[0]\n",
    "    print(\"Denominator is: {}\".format(denominator))\n",
    "    print(\"Probability is: {}\\n\".format(nominator / denominator))"
   ]
  }
 ],
 "metadata": {
  "kernelspec": {
   "display_name": "Python 3",
   "language": "python",
   "name": "python3"
  },
  "language_info": {
   "codemirror_mode": {
    "name": "ipython",
    "version": 3
   },
   "file_extension": ".py",
   "mimetype": "text/x-python",
   "name": "python",
   "nbconvert_exporter": "python",
   "pygments_lexer": "ipython3",
   "version": "3.8.5"
  }
 },
 "nbformat": 4,
 "nbformat_minor": 4
}
