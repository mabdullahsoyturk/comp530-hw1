{
 "cells": [
  {
   "cell_type": "code",
   "execution_count": 23,
   "metadata": {},
   "outputs": [],
   "source": [
    "import numpy as np\n",
    "import pandas as pd\n",
    "from hashlib import sha512\n",
    "import csv"
   ]
  },
  {
   "cell_type": "markdown",
   "metadata": {},
   "source": [
    "# For (a) and (b)"
   ]
  },
  {
   "cell_type": "code",
   "execution_count": 35,
   "metadata": {},
   "outputs": [
    {
     "name": "stdout",
     "output_type": "stream",
     "text": [
      "Password of Alice: iloveyou2\n",
      "Password of Bob: gangsta\n",
      "Password of Charlie: beautiful\n"
     ]
    }
   ],
   "source": [
    "rockyou = np.genfromtxt('rockyou.txt',dtype='str')\n",
    "megacorp = pd.read_csv('megacorp.txt')\n",
    "\n",
    "attack_dict = dict()\n",
    "\n",
    "for rawpass in rockyou:\n",
    "    attack_dict[sha512(rawpass.encode('utf-8')).hexdigest()] = rawpass\n",
    "    \n",
    "print(\"Password of Alice: {}\".format(attack_dict[megacorp['hash_of_password'][0]]))\n",
    "print(\"Password of Bob: {}\".format(attack_dict[megacorp['hash_of_password'][1]]))\n",
    "print(\"Password of Charlie: {}\".format(attack_dict[megacorp['hash_of_password'][2]]))\n",
    "    \n",
    "with open('dict.csv', 'w') as csv_file:  \n",
    "    writer = csv.writer(csv_file)\n",
    "    for key, value in attack_dict.items():\n",
    "       writer.writerow([key, value])"
   ]
  },
  {
   "cell_type": "markdown",
   "metadata": {},
   "source": [
    "# For (d) and (e)"
   ]
  },
  {
   "cell_type": "code",
   "execution_count": 55,
   "metadata": {},
   "outputs": [
    {
     "name": "stdout",
     "output_type": "stream",
     "text": [
      "manutd\n",
      "hello\n",
      "0123456789\n"
     ]
    }
   ],
   "source": [
    "rockyou = np.genfromtxt('rockyou.txt',dtype='str')\n",
    "salty_megacorp = pd.read_csv('salty-megacorp.txt')\n",
    "users = salty_megacorp['username'].values\n",
    "salts = salty_megacorp['salt'].values\n",
    "hash_outcomes = salty_megacorp['hash_outcome'].values\n",
    "\n",
    "dicts = []\n",
    "\n",
    "for salt in salts:\n",
    "    dictionary = dict()\n",
    "    \n",
    "    for rawpass in rockyou:\n",
    "        dictionary[sha512((rawpass + salt).encode('utf-8')).hexdigest()] = rawpass\n",
    "    dicts.append(dictionary)\n",
    "    \n",
    "for hash_outcome in hash_outcomes:    \n",
    "    for dictionary in dicts:\n",
    "        if hash_outcome in dictionary.keys():\n",
    "            print(dictionary[hash_outcome])\n"
   ]
  }
 ],
 "metadata": {
  "kernelspec": {
   "display_name": "Python 3",
   "language": "python",
   "name": "python3"
  },
  "language_info": {
   "codemirror_mode": {
    "name": "ipython",
    "version": 3
   },
   "file_extension": ".py",
   "mimetype": "text/x-python",
   "name": "python",
   "nbconvert_exporter": "python",
   "pygments_lexer": "ipython3",
   "version": "3.8.5"
  }
 },
 "nbformat": 4,
 "nbformat_minor": 4
}
